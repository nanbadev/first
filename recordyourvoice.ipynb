{
 "cells": [
  {
   "cell_type": "markdown",
   "id": "b1312130",
   "metadata": {},
   "source": [
    "### Colab and Jupyter notebook - record your voice\n",
    "i have created a function that you can use recording your voice and listen. You can dowload your voice"
   ]
  },
  {
   "cell_type": "code",
   "execution_count": 1,
   "id": "98352479",
   "metadata": {},
   "outputs": [],
   "source": [
    "from random import randint\n",
    "from IPython.display import display, Javascript, HTML"
   ]
  },
  {
   "cell_type": "code",
   "execution_count": 2,
   "id": "79444fd3",
   "metadata": {},
   "outputs": [
    {
     "data": {
      "application/javascript": [
       "\n",
       "if(!window['recorder'])\n",
       "window['recorder']=(id)=>new Promise(async resolve=>{\n",
       "    var stream = await navigator.mediaDevices.getUserMedia({ audio: true })\n",
       "    window['rec_'+id] = new MediaRecorder(stream)\n",
       "    var chunks = []\n",
       "    window['rec_'+id].ondataavailable = e => chunks.push(e.data)\n",
       "    window['rec_'+id].start()\n",
       "    window['rec_'+id].onstop = async ()=>{\n",
       "        console.log('clisti')\n",
       "        var blob = new Blob(chunks)\n",
       "        var blobUrl = URL.createObjectURL(blob);\n",
       "        document.getElementById('audio_'+id).setAttribute('src',blobUrl)\n",
       "        resolve()\n",
       "    }\n",
       "})\n",
       "if(!window['stoprecord'])\n",
       "window['stoprecord']=(id)=>{\n",
       "    window['rec_'+id].stop()\n",
       "    return;\n",
       "}\n"
      ],
      "text/plain": [
       "<IPython.core.display.Javascript object>"
      ]
     },
     "metadata": {},
     "output_type": "display_data"
    }
   ],
   "source": [
    "js=\"\"\"\n",
    "if(!window['recorder'])\n",
    "window['recorder']=(id)=>new Promise(async resolve=>{\n",
    "    var stream = await navigator.mediaDevices.getUserMedia({ audio: true })\n",
    "    window['rec_'+id] = new MediaRecorder(stream)\n",
    "    var chunks = []\n",
    "    window['rec_'+id].ondataavailable = e => chunks.push(e.data)\n",
    "    window['rec_'+id].start()\n",
    "    window['rec_'+id].onstop = async ()=>{\n",
    "        console.log('clisti')\n",
    "        var blob = new Blob(chunks)\n",
    "        var blobUrl = URL.createObjectURL(blob);\n",
    "        document.getElementById('audio_'+id).setAttribute('src',blobUrl)\n",
    "        resolve()\n",
    "    }\n",
    "})\n",
    "if(!window['stoprecord'])\n",
    "window['stoprecord']=(id)=>{\n",
    "    window['rec_'+id].stop()\n",
    "    return;\n",
    "}\n",
    "\"\"\"\n",
    "display(Javascript(js))"
   ]
  },
  {
   "cell_type": "code",
   "execution_count": 3,
   "id": "8ff87645",
   "metadata": {},
   "outputs": [],
   "source": [
    "def getRecorder():\n",
    "    idd=str(randint(100000, 999999))\n",
    "    hl=f\"<button id='start_{idd}'\"+f\" onclick='recorder({idd})'>Start</button>\"\n",
    "    hl+=f\"<button id='stop_{idd}'\"+f\" onclick='stoprecord({idd})'>Stop</button>\"\n",
    "    hl+=f\"<audio controls id='audio_{idd}'\"+f\"</audio>\"\n",
    "    display(HTML(hl))"
   ]
  },
  {
   "cell_type": "code",
   "execution_count": 4,
   "id": "5175c527",
   "metadata": {},
   "outputs": [
    {
     "data": {
      "text/html": [
       "<button id='start_815341' onclick='recorder(815341)'>Start</button><button id='stop_815341' onclick='stoprecord(815341)'>Stop</button><audio controls id='audio_815341'</audio>"
      ],
      "text/plain": [
       "<IPython.core.display.HTML object>"
      ]
     },
     "metadata": {},
     "output_type": "display_data"
    }
   ],
   "source": [
    "getRecorder()"
   ]
  },
  {
   "cell_type": "markdown",
   "id": "e08435a9",
   "metadata": {},
   "source": [
    "### you can use ruv.py\n",
    "if you dont want messing up your code, you can simply import ruv"
   ]
  },
  {
   "cell_type": "code",
   "execution_count": 5,
   "id": "e53b696f",
   "metadata": {},
   "outputs": [
    {
     "data": {
      "application/javascript": [
       "\n",
       "        if(!window['recorder'])\n",
       "        window['recorder']=(id)=>new Promise(async resolve=>{\n",
       "            var stream = await navigator.mediaDevices.getUserMedia({ audio: true })\n",
       "            window['rec_'+id] = new MediaRecorder(stream)\n",
       "            var chunks = []\n",
       "            window['rec_'+id].ondataavailable = e => chunks.push(e.data)\n",
       "            window['rec_'+id].start()\n",
       "            window['rec_'+id].onstop = async ()=>{\n",
       "                console.log('clisti')\n",
       "                var blob = new Blob(chunks)\n",
       "                var blobUrl = URL.createObjectURL(blob);\n",
       "                document.getElementById('audio_'+id).setAttribute('src',blobUrl)\n",
       "                resolve()\n",
       "            }\n",
       "        })\n",
       "        if(!window['stoprecord'])\n",
       "        window['stoprecord']=(id)=>{\n",
       "            window['rec_'+id].stop()\n",
       "            return;\n",
       "        }\n",
       "        "
      ],
      "text/plain": [
       "<IPython.core.display.Javascript object>"
      ]
     },
     "metadata": {},
     "output_type": "display_data"
    }
   ],
   "source": [
    "from ruv import RecordUV\n",
    "rec=RecordUV()"
   ]
  },
  {
   "cell_type": "code",
   "execution_count": 6,
   "id": "884c1422",
   "metadata": {},
   "outputs": [
    {
     "data": {
      "text/html": [
       "<button id='start_219609' onclick='recorder(219609)'>Start</button><button id='stop_219609' onclick='stoprecord(219609)'>Stop</button><audio controls id='audio_219609'</audio>"
      ],
      "text/plain": [
       "<IPython.core.display.HTML object>"
      ]
     },
     "metadata": {},
     "output_type": "display_data"
    }
   ],
   "source": [
    "rec.getRecorder()"
   ]
  }
 ],
 "metadata": {
  "kernelspec": {
   "display_name": "Python 3 (ipykernel)",
   "language": "python",
   "name": "python3"
  },
  "language_info": {
   "codemirror_mode": {
    "name": "ipython",
    "version": 3
   },
   "file_extension": ".py",
   "mimetype": "text/x-python",
   "name": "python",
   "nbconvert_exporter": "python",
   "pygments_lexer": "ipython3",
   "version": "3.8.12"
  }
 },
 "nbformat": 4,
 "nbformat_minor": 5
}
