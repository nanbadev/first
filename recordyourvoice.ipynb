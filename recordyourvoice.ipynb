{
 "cells": [
  {
   "cell_type": "markdown",
   "id": "68da257d",
   "metadata": {},
   "source": [
    "### Colab and Jupyter notebook - record your voice\n",
    "i have created a function that you can use recording your voice and listen. You can dowload your voice"
   ]
  },
  {
   "cell_type": "code",
   "execution_count": 1,
   "id": "8c2fa2ab",
   "metadata": {},
   "outputs": [],
   "source": [
    "from random import randint\n",
    "from IPython.display import display, Javascript, HTML"
   ]
  },
  {
   "cell_type": "code",
   "execution_count": 2,
   "id": "2c270de9",
   "metadata": {},
   "outputs": [
    {
     "data": {
      "application/javascript": [
       "\n",
       "if(!window['recorder'])\n",
       "window['recorder']=(id)=>new Promise(async resolve=>{\n",
       "    var stream = await navigator.mediaDevices.getUserMedia({ audio: true })\n",
       "    window['rec_'+id] = new MediaRecorder(stream)\n",
       "    var chunks = []\n",
       "    window['rec_'+id].ondataavailable = e => chunks.push(e.data)\n",
       "    window['rec_'+id].start()\n",
       "    window['rec_'+id].onstop = async ()=>{\n",
       "        console.log('clisti')\n",
       "        var blob = new Blob(chunks)\n",
       "        var blobUrl = URL.createObjectURL(blob);\n",
       "        document.getElementById('audio_'+id).setAttribute('src',blobUrl)\n",
       "        resolve()\n",
       "    }\n",
       "})\n",
       "if(!window['stoprecord'])\n",
       "window['stoprecord']=(id)=>{\n",
       "    window['rec_'+id].stop()\n",
       "    return;\n",
       "}\n"
      ],
      "text/plain": [
       "<IPython.core.display.Javascript object>"
      ]
     },
     "metadata": {},
     "output_type": "display_data"
    }
   ],
   "source": [
    "js=\"\"\"\n",
    "if(!window['recorder'])\n",
    "window['recorder']=(id)=>new Promise(async resolve=>{\n",
    "    var stream = await navigator.mediaDevices.getUserMedia({ audio: true })\n",
    "    window['rec_'+id] = new MediaRecorder(stream)\n",
    "    var chunks = []\n",
    "    window['rec_'+id].ondataavailable = e => chunks.push(e.data)\n",
    "    window['rec_'+id].start()\n",
    "    window['rec_'+id].onstop = async ()=>{\n",
    "        console.log('clisti')\n",
    "        var blob = new Blob(chunks)\n",
    "        var blobUrl = URL.createObjectURL(blob);\n",
    "        document.getElementById('audio_'+id).setAttribute('src',blobUrl)\n",
    "        resolve()\n",
    "    }\n",
    "})\n",
    "if(!window['stoprecord'])\n",
    "window['stoprecord']=(id)=>{\n",
    "    window['rec_'+id].stop()\n",
    "    return;\n",
    "}\n",
    "\"\"\"\n",
    "display(Javascript(js))"
   ]
  },
  {
   "cell_type": "code",
   "execution_count": 3,
   "id": "ea6ab911",
   "metadata": {},
   "outputs": [],
   "source": [
    "def getRecorder():\n",
    "    idd=str(randint(100000, 999999))\n",
    "    hl=f\"<button id='start_{idd}'\"+f\" onclick='recorder({idd})'>Start</button>\"\n",
    "    hl+=f\"<button id='stop_{idd}'\"+f\" onclick='stoprecord({idd})'>Stop</button>\"\n",
    "    hl+=f\"<audio controls id='audio_{idd}'\"+f\"</audio>\"\n",
    "    display(HTML(hl))"
   ]
  },
  {
   "cell_type": "code",
   "execution_count": 4,
   "id": "23ff476a",
   "metadata": {},
   "outputs": [
    {
     "data": {
      "text/html": [
       "<button id='start_376986' onclick='recorder(376986)'>Start</button><button id='stop_376986' onclick='stoprecord(376986)'>Stop</button><audio controls id='audio_376986'</audio>"
      ],
      "text/plain": [
       "<IPython.core.display.HTML object>"
      ]
     },
     "metadata": {},
     "output_type": "display_data"
    }
   ],
   "source": [
    "getRecorder()"
   ]
  },
  {
   "cell_type": "code",
   "execution_count": null,
   "id": "a591653e",
   "metadata": {},
   "outputs": [],
   "source": []
  }
 ],
 "metadata": {
  "kernelspec": {
   "display_name": "Python 3 (ipykernel)",
   "language": "python",
   "name": "python3"
  },
  "language_info": {
   "codemirror_mode": {
    "name": "ipython",
    "version": 3
   },
   "file_extension": ".py",
   "mimetype": "text/x-python",
   "name": "python",
   "nbconvert_exporter": "python",
   "pygments_lexer": "ipython3",
   "version": "3.8.12"
  }
 },
 "nbformat": 4,
 "nbformat_minor": 5
}
